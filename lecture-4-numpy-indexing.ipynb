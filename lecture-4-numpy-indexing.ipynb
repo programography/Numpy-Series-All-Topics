{
 "cells": [
  {
   "cell_type": "markdown",
   "id": "0ead40a2-c49e-42ec-b823-21a37b54e74d",
   "metadata": {},
   "source": [
    "## Indexing in Numpy Array"
   ]
  },
  {
   "cell_type": "code",
   "execution_count": 10,
   "id": "12bf5ba6-f4b1-4bf4-89b4-6825108c92a7",
   "metadata": {},
   "outputs": [],
   "source": [
    "import numpy as np"
   ]
  },
  {
   "cell_type": "code",
   "execution_count": 11,
   "id": "cf9cd4f7-f274-43d2-ad8f-d2987049cced",
   "metadata": {},
   "outputs": [],
   "source": [
    "arr = np.array([12, 10, 90, 89, 100])"
   ]
  },
  {
   "cell_type": "code",
   "execution_count": 13,
   "id": "ae3dfa5b-6746-4f69-bc91-a1143522515d",
   "metadata": {},
   "outputs": [
    {
     "data": {
      "text/plain": [
       "1"
      ]
     },
     "execution_count": 13,
     "metadata": {},
     "output_type": "execute_result"
    }
   ],
   "source": [
    "arr.ndim"
   ]
  },
  {
   "cell_type": "code",
   "execution_count": 15,
   "id": "06997f87-bcd0-453d-aa0c-511b3077a5f9",
   "metadata": {},
   "outputs": [
    {
     "data": {
      "text/plain": [
       "89"
      ]
     },
     "execution_count": 15,
     "metadata": {},
     "output_type": "execute_result"
    }
   ],
   "source": [
    "arr[3]"
   ]
  },
  {
   "cell_type": "code",
   "execution_count": 16,
   "id": "34ba5bbe-6247-409e-b964-f306e5110b18",
   "metadata": {},
   "outputs": [
    {
     "data": {
      "text/plain": [
       "12"
      ]
     },
     "execution_count": 16,
     "metadata": {},
     "output_type": "execute_result"
    }
   ],
   "source": [
    "arr[0]"
   ]
  },
  {
   "cell_type": "code",
   "execution_count": 17,
   "id": "e872d1b2-a9fc-4cfa-a48a-a06d0e5ec24e",
   "metadata": {},
   "outputs": [],
   "source": [
    "ar1 = np.array([[12, 10, 90], [200, 90, 190]])"
   ]
  },
  {
   "cell_type": "code",
   "execution_count": 18,
   "id": "c6fc8c28-a877-4625-84f1-209679072b1a",
   "metadata": {},
   "outputs": [
    {
     "data": {
      "text/plain": [
       "2"
      ]
     },
     "execution_count": 18,
     "metadata": {},
     "output_type": "execute_result"
    }
   ],
   "source": [
    "ar1.ndim"
   ]
  },
  {
   "cell_type": "code",
   "execution_count": 19,
   "id": "a6cedaee-7087-41f7-b542-c34df9e5b94b",
   "metadata": {},
   "outputs": [
    {
     "data": {
      "text/plain": [
       "array([[ 12,  10,  90],\n",
       "       [200,  90, 190]])"
      ]
     },
     "execution_count": 19,
     "metadata": {},
     "output_type": "execute_result"
    }
   ],
   "source": [
    "ar1"
   ]
  },
  {
   "cell_type": "code",
   "execution_count": 23,
   "id": "ab933e4f-e417-44da-8c92-23195d8c92fd",
   "metadata": {},
   "outputs": [
    {
     "data": {
      "text/plain": [
       "90"
      ]
     },
     "execution_count": 23,
     "metadata": {},
     "output_type": "execute_result"
    }
   ],
   "source": [
    "ar1[1, 1]"
   ]
  },
  {
   "cell_type": "code",
   "execution_count": 25,
   "id": "270ba0f7-cec7-49d3-9b11-905610deea27",
   "metadata": {},
   "outputs": [
    {
     "data": {
      "text/plain": [
       "10"
      ]
     },
     "execution_count": 25,
     "metadata": {},
     "output_type": "execute_result"
    }
   ],
   "source": [
    "ar1[0, 1]"
   ]
  },
  {
   "cell_type": "code",
   "execution_count": null,
   "id": "0f81f5e1-b832-4fe3-9d88-c8cccbb530d8",
   "metadata": {},
   "outputs": [],
   "source": []
  },
  {
   "cell_type": "code",
   "execution_count": 31,
   "id": "6535bdf4-fcaa-48f0-a4a1-524c595a12c4",
   "metadata": {},
   "outputs": [],
   "source": [
    "ar2 = np.array([[[12, 10, 90], [45, 23, 34]], [[34, 900, 89], [120, 209, 89]]])"
   ]
  },
  {
   "cell_type": "code",
   "execution_count": 32,
   "id": "f445d9c7-665d-4afd-8150-edeff1e5d3b2",
   "metadata": {},
   "outputs": [
    {
     "data": {
      "text/plain": [
       "3"
      ]
     },
     "execution_count": 32,
     "metadata": {},
     "output_type": "execute_result"
    }
   ],
   "source": [
    "ar2.ndim"
   ]
  },
  {
   "cell_type": "code",
   "execution_count": 33,
   "id": "c25a252d-d7f3-41da-b256-5738644cfe40",
   "metadata": {},
   "outputs": [
    {
     "data": {
      "text/plain": [
       "array([[[ 12,  10,  90],\n",
       "        [ 45,  23,  34]],\n",
       "\n",
       "       [[ 34, 900,  89],\n",
       "        [120, 209,  89]]])"
      ]
     },
     "execution_count": 33,
     "metadata": {},
     "output_type": "execute_result"
    }
   ],
   "source": [
    "ar2"
   ]
  },
  {
   "cell_type": "code",
   "execution_count": 36,
   "id": "c4a56e09-5163-4dd6-9aa2-a2f131e58faf",
   "metadata": {},
   "outputs": [
    {
     "data": {
      "text/plain": [
       "900"
      ]
     },
     "execution_count": 36,
     "metadata": {},
     "output_type": "execute_result"
    }
   ],
   "source": [
    "ar2[1, 0, 1]"
   ]
  },
  {
   "cell_type": "code",
   "execution_count": 40,
   "id": "e949e8ac-c67c-4b97-9b33-adf1888591d3",
   "metadata": {},
   "outputs": [
    {
     "data": {
      "text/plain": [
       "23"
      ]
     },
     "execution_count": 40,
     "metadata": {},
     "output_type": "execute_result"
    }
   ],
   "source": [
    "ar2[0, 1, 1]"
   ]
  },
  {
   "cell_type": "code",
   "execution_count": null,
   "id": "9d9d20dc-4f2b-4c58-99ac-c94ae6ddb07d",
   "metadata": {},
   "outputs": [],
   "source": []
  }
 ],
 "metadata": {
  "kernelspec": {
   "display_name": "Python 3 (ipykernel)",
   "language": "python",
   "name": "python3"
  },
  "language_info": {
   "codemirror_mode": {
    "name": "ipython",
    "version": 3
   },
   "file_extension": ".py",
   "mimetype": "text/x-python",
   "name": "python",
   "nbconvert_exporter": "python",
   "pygments_lexer": "ipython3",
   "version": "3.12.0"
  }
 },
 "nbformat": 4,
 "nbformat_minor": 5
}
