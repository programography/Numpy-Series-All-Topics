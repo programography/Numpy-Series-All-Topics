{
 "cells": [
  {
   "cell_type": "markdown",
   "id": "035e6ad5-1b67-4df5-801b-b580a49f4b89",
   "metadata": {},
   "source": [
    "                                              Dimensions in Arrays"
   ]
  },
  {
   "cell_type": "code",
   "execution_count": null,
   "id": "bc5a5597-07fc-481f-9472-493517220e76",
   "metadata": {},
   "outputs": [],
   "source": [
    "ndarray\n",
    "\n",
    "array()"
   ]
  },
  {
   "cell_type": "code",
   "execution_count": 2,
   "id": "e8097db3-4ca9-4bee-8b84-69eb03bd2b41",
   "metadata": {},
   "outputs": [],
   "source": [
    "import numpy as np"
   ]
  },
  {
   "cell_type": "code",
   "execution_count": 3,
   "id": "7fa1a546-9221-4358-bdc7-8c3bd76b624e",
   "metadata": {},
   "outputs": [],
   "source": [
    "arr = np.array(20)"
   ]
  },
  {
   "cell_type": "code",
   "execution_count": 6,
   "id": "f879b6aa-b166-430a-b927-534054642ab3",
   "metadata": {},
   "outputs": [
    {
     "data": {
      "text/plain": [
       "array(20)"
      ]
     },
     "execution_count": 6,
     "metadata": {},
     "output_type": "execute_result"
    }
   ],
   "source": [
    "arr"
   ]
  },
  {
   "cell_type": "code",
   "execution_count": 7,
   "id": "de842ff9-68b1-46d3-a35d-62bd4c14496b",
   "metadata": {},
   "outputs": [],
   "source": [
    "# ndim"
   ]
  },
  {
   "cell_type": "code",
   "execution_count": 8,
   "id": "97e344bf-2822-4089-83e4-044c458c6ed6",
   "metadata": {},
   "outputs": [],
   "source": [
    "arr = np.array(20)"
   ]
  },
  {
   "cell_type": "code",
   "execution_count": 9,
   "id": "f651ccac-8e9d-4dcc-bdfa-e0db202e02c0",
   "metadata": {},
   "outputs": [
    {
     "data": {
      "text/plain": [
       "0"
      ]
     },
     "execution_count": 9,
     "metadata": {},
     "output_type": "execute_result"
    }
   ],
   "source": [
    "arr.ndim"
   ]
  },
  {
   "cell_type": "code",
   "execution_count": 10,
   "id": "fa426147-b3ef-40e7-8153-f569fb29b750",
   "metadata": {},
   "outputs": [],
   "source": [
    "abc = np.array([12, 10, 90, 10])"
   ]
  },
  {
   "cell_type": "code",
   "execution_count": 11,
   "id": "342a6c9b-34b3-49a9-9530-bfcdb467a77d",
   "metadata": {},
   "outputs": [
    {
     "data": {
      "text/plain": [
       "array([12, 10, 90, 10])"
      ]
     },
     "execution_count": 11,
     "metadata": {},
     "output_type": "execute_result"
    }
   ],
   "source": [
    "abc"
   ]
  },
  {
   "cell_type": "code",
   "execution_count": 12,
   "id": "d5d58376-bfd5-4487-96ed-41f5a59e7adc",
   "metadata": {},
   "outputs": [
    {
     "data": {
      "text/plain": [
       "1"
      ]
     },
     "execution_count": 12,
     "metadata": {},
     "output_type": "execute_result"
    }
   ],
   "source": [
    "abc.ndim"
   ]
  },
  {
   "cell_type": "code",
   "execution_count": 18,
   "id": "43d256e9-c5ea-4b3f-80d7-bc76f4aa402a",
   "metadata": {},
   "outputs": [],
   "source": [
    "xyz = np.array([[12, 10, 90], [45, 50, 30]])"
   ]
  },
  {
   "cell_type": "code",
   "execution_count": 19,
   "id": "b75daf70-cffb-4ef0-980d-92e8f7d2c2b1",
   "metadata": {},
   "outputs": [
    {
     "data": {
      "text/plain": [
       "array([[12, 10, 90],\n",
       "       [45, 50, 30]])"
      ]
     },
     "execution_count": 19,
     "metadata": {},
     "output_type": "execute_result"
    }
   ],
   "source": [
    "xyz"
   ]
  },
  {
   "cell_type": "code",
   "execution_count": 20,
   "id": "97641bfd-fb81-4fbf-b23d-34b62ed69676",
   "metadata": {},
   "outputs": [
    {
     "data": {
      "text/plain": [
       "2"
      ]
     },
     "execution_count": 20,
     "metadata": {},
     "output_type": "execute_result"
    }
   ],
   "source": [
    "xyz.ndim"
   ]
  },
  {
   "cell_type": "code",
   "execution_count": 24,
   "id": "44a48b38-3530-4b84-8602-17179849d1cf",
   "metadata": {},
   "outputs": [],
   "source": [
    "xy = np.array([[[12, 10, 90], [45, 50, 30]], [[12, 10, 100], [23, 10, 89]]])"
   ]
  },
  {
   "cell_type": "code",
   "execution_count": 25,
   "id": "9324d7e0-baf3-4884-aceb-ad24ac10f8eb",
   "metadata": {},
   "outputs": [
    {
     "data": {
      "text/plain": [
       "array([[[ 12,  10,  90],\n",
       "        [ 45,  50,  30]],\n",
       "\n",
       "       [[ 12,  10, 100],\n",
       "        [ 23,  10,  89]]])"
      ]
     },
     "execution_count": 25,
     "metadata": {},
     "output_type": "execute_result"
    }
   ],
   "source": [
    "xy"
   ]
  },
  {
   "cell_type": "code",
   "execution_count": 26,
   "id": "e5741fb4-d301-4546-afd3-5aa4aac6e5f1",
   "metadata": {},
   "outputs": [
    {
     "data": {
      "text/plain": [
       "3"
      ]
     },
     "execution_count": 26,
     "metadata": {},
     "output_type": "execute_result"
    }
   ],
   "source": [
    "xy.ndim"
   ]
  },
  {
   "cell_type": "code",
   "execution_count": null,
   "id": "668579fc-93c0-446c-8415-b3806e3e8dbe",
   "metadata": {},
   "outputs": [],
   "source": []
  }
 ],
 "metadata": {
  "kernelspec": {
   "display_name": "Python 3 (ipykernel)",
   "language": "python",
   "name": "python3"
  },
  "language_info": {
   "codemirror_mode": {
    "name": "ipython",
    "version": 3
   },
   "file_extension": ".py",
   "mimetype": "text/x-python",
   "name": "python",
   "nbconvert_exporter": "python",
   "pygments_lexer": "ipython3",
   "version": "3.12.0"
  }
 },
 "nbformat": 4,
 "nbformat_minor": 5
}
