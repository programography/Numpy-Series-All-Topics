{
 "cells": [
  {
   "cell_type": "markdown",
   "id": "3460765d-2e87-4de7-bbf1-75491d06dbbf",
   "metadata": {},
   "source": [
    "## Searching element's index number in Arrays "
   ]
  },
  {
   "cell_type": "code",
   "execution_count": 4,
   "id": "6b244f2b-2e9b-46dc-8493-4057e22cbba1",
   "metadata": {},
   "outputs": [],
   "source": [
    "import numpy as np"
   ]
  },
  {
   "cell_type": "code",
   "execution_count": 5,
   "id": "211379dd-19c5-4755-a095-27c05290c35c",
   "metadata": {},
   "outputs": [],
   "source": [
    "arr = np.array([12, 34, 23, 12, 1, 67, 45, 3, 45, 67, 34, 23])"
   ]
  },
  {
   "cell_type": "code",
   "execution_count": 6,
   "id": "34df2445-75db-4709-8156-c6c34c13f759",
   "metadata": {},
   "outputs": [
    {
     "data": {
      "text/plain": [
       "array([12, 34, 23, 12,  1, 67, 45,  3, 45, 67, 34, 23])"
      ]
     },
     "execution_count": 6,
     "metadata": {},
     "output_type": "execute_result"
    }
   ],
   "source": [
    "arr"
   ]
  },
  {
   "cell_type": "code",
   "execution_count": 7,
   "id": "14a971e7-534c-48a6-8c1b-d4acf81891c6",
   "metadata": {},
   "outputs": [
    {
     "data": {
      "text/plain": [
       "1"
      ]
     },
     "execution_count": 7,
     "metadata": {},
     "output_type": "execute_result"
    }
   ],
   "source": [
    "arr.ndim"
   ]
  },
  {
   "cell_type": "code",
   "execution_count": 8,
   "id": "7e9bd3e6-6ce9-43f5-9f2e-2a3d44ed37a9",
   "metadata": {},
   "outputs": [
    {
     "data": {
      "text/plain": [
       "(12,)"
      ]
     },
     "execution_count": 8,
     "metadata": {},
     "output_type": "execute_result"
    }
   ],
   "source": [
    "arr.shape"
   ]
  },
  {
   "cell_type": "code",
   "execution_count": null,
   "id": "bb484a3c-a9c3-4086-a2be-c9de3b164886",
   "metadata": {},
   "outputs": [],
   "source": []
  },
  {
   "cell_type": "code",
   "execution_count": null,
   "id": "66b2f8fe-8201-4239-a628-7b4bd2487386",
   "metadata": {},
   "outputs": [],
   "source": []
  },
  {
   "cell_type": "code",
   "execution_count": 9,
   "id": "fed6bcf4-2252-4130-8c97-5b94cbb01423",
   "metadata": {},
   "outputs": [],
   "source": [
    "arr = np.array([12, 34, 23, 12, 1, 67, 45, 3, 45, 67, 34, 23])"
   ]
  },
  {
   "cell_type": "code",
   "execution_count": null,
   "id": "4fa6ab9d-8be5-4697-9422-354de84b5689",
   "metadata": {},
   "outputs": [],
   "source": []
  },
  {
   "cell_type": "code",
   "execution_count": null,
   "id": "da686c0c-5dbe-443b-95c6-de6b3057abe6",
   "metadata": {},
   "outputs": [],
   "source": [
    "# where()"
   ]
  },
  {
   "cell_type": "code",
   "execution_count": 13,
   "id": "beb4e8f9-8b2e-4062-8025-dd084700ad42",
   "metadata": {},
   "outputs": [
    {
     "data": {
      "text/plain": [
       "(array([6, 8], dtype=int64),)"
      ]
     },
     "execution_count": 13,
     "metadata": {},
     "output_type": "execute_result"
    }
   ],
   "source": [
    "np.where(arr == 45)"
   ]
  },
  {
   "cell_type": "code",
   "execution_count": null,
   "id": "12719027-204a-4b87-9ce8-67615d08ac45",
   "metadata": {},
   "outputs": [],
   "source": []
  },
  {
   "cell_type": "code",
   "execution_count": 14,
   "id": "3a59707e-e8fe-4129-89da-6acd623f43c0",
   "metadata": {},
   "outputs": [
    {
     "data": {
      "text/plain": [
       "(array([ 0,  1,  3, 10], dtype=int64),)"
      ]
     },
     "execution_count": 14,
     "metadata": {},
     "output_type": "execute_result"
    }
   ],
   "source": [
    "np.where(arr%2 == 0)"
   ]
  },
  {
   "cell_type": "code",
   "execution_count": null,
   "id": "f97d5dd0-b0c3-4f01-afcc-9da18818828a",
   "metadata": {},
   "outputs": [],
   "source": []
  }
 ],
 "metadata": {
  "kernelspec": {
   "display_name": "Python 3 (ipykernel)",
   "language": "python",
   "name": "python3"
  },
  "language_info": {
   "codemirror_mode": {
    "name": "ipython",
    "version": 3
   },
   "file_extension": ".py",
   "mimetype": "text/x-python",
   "name": "python",
   "nbconvert_exporter": "python",
   "pygments_lexer": "ipython3",
   "version": "3.12.0"
  }
 },
 "nbformat": 4,
 "nbformat_minor": 5
}
