{
 "cells": [
  {
   "cell_type": "markdown",
   "id": "4ab236e4-9a7e-4927-a0b4-40e3a9fb55f7",
   "metadata": {},
   "source": [
    "                                        NumPy Creating Arrays (ndarray)"
   ]
  },
  {
   "cell_type": "code",
   "execution_count": 1,
   "id": "612a9234-03e8-4a48-8186-9f44f60d35d8",
   "metadata": {},
   "outputs": [],
   "source": [
    "ndArray : n-dimatioanl array\n",
    "\n",
    "array()"
   ]
  },
  {
   "cell_type": "code",
   "execution_count": null,
   "id": "d0f98004-6825-4bc4-8f80-159ab6e2dd2c",
   "metadata": {},
   "outputs": [],
   "source": [
    "!pip install numpy\n"
   ]
  },
  {
   "cell_type": "code",
   "execution_count": 21,
   "id": "f2bd9e28-958b-4bce-880a-d10d6cb15539",
   "metadata": {},
   "outputs": [],
   "source": [
    "import numpy as np"
   ]
  },
  {
   "cell_type": "code",
   "execution_count": 26,
   "id": "d8b8f097-7b82-4dca-83dc-1cf90db8cd46",
   "metadata": {},
   "outputs": [],
   "source": [
    "arr = np.array([12, 23, 10, 100])"
   ]
  },
  {
   "cell_type": "code",
   "execution_count": 27,
   "id": "cf2c2059-5b5a-40ba-97b6-0c41ec259de7",
   "metadata": {},
   "outputs": [
    {
     "data": {
      "text/plain": [
       "array([ 12,  23,  10, 100])"
      ]
     },
     "execution_count": 27,
     "metadata": {},
     "output_type": "execute_result"
    }
   ],
   "source": [
    "arr"
   ]
  },
  {
   "cell_type": "code",
   "execution_count": 28,
   "id": "dfa7abc1-42f5-47ae-bfe3-96f80130994e",
   "metadata": {},
   "outputs": [
    {
     "data": {
      "text/plain": [
       "int"
      ]
     },
     "execution_count": 28,
     "metadata": {},
     "output_type": "execute_result"
    }
   ],
   "source": [
    "# type()\n",
    "a = 10\n",
    "type(a)"
   ]
  },
  {
   "cell_type": "code",
   "execution_count": 30,
   "id": "09b62915-e521-4672-803f-9cf0b21f48a3",
   "metadata": {},
   "outputs": [
    {
     "data": {
      "text/plain": [
       "numpy.ndarray"
      ]
     },
     "execution_count": 30,
     "metadata": {},
     "output_type": "execute_result"
    }
   ],
   "source": [
    "type(arr)"
   ]
  },
  {
   "cell_type": "code",
   "execution_count": null,
   "id": "217c3ccb-2bfd-493e-953c-cf9bbc148560",
   "metadata": {},
   "outputs": [],
   "source": []
  }
 ],
 "metadata": {
  "kernelspec": {
   "display_name": "Python 3 (ipykernel)",
   "language": "python",
   "name": "python3"
  },
  "language_info": {
   "codemirror_mode": {
    "name": "ipython",
    "version": 3
   },
   "file_extension": ".py",
   "mimetype": "text/x-python",
   "name": "python",
   "nbconvert_exporter": "python",
   "pygments_lexer": "ipython3",
   "version": "3.12.0"
  }
 },
 "nbformat": 4,
 "nbformat_minor": 5
}
