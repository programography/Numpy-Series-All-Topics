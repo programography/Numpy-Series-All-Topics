{
 "cells": [
  {
   "cell_type": "markdown",
   "id": "b786f365-dbc8-456b-ba7f-74fb2225eed9",
   "metadata": {},
   "source": [
    "                                                Numpy  "
   ]
  },
  {
   "cell_type": "code",
   "execution_count": 8,
   "id": "14fe553e-8bfe-42f1-bff1-7a9060b96a31",
   "metadata": {},
   "outputs": [],
   "source": [
    "# Numpy : \n",
    "Numpy: Numarical Python.\n"
   ]
  },
  {
   "cell_type": "code",
   "execution_count": null,
   "id": "54039cdd-4ecc-46ef-91e9-70031777ec92",
   "metadata": {},
   "outputs": [],
   "source": [
    "Owner : \n",
    "Travis Oliphant\n",
    "2005\n"
   ]
  },
  {
   "cell_type": "code",
   "execution_count": null,
   "id": "6d748a6e-4a9f-43c5-af47-fe9e4007cd20",
   "metadata": {},
   "outputs": [],
   "source": [
    "Requrinments : \n",
    "Python, list\n",
    "\n",
    "Python install, Jupyter notebook\n"
   ]
  },
  {
   "cell_type": "code",
   "execution_count": null,
   "id": "6341ce1f-2bd4-4754-bb18-fff8b0ab90fe",
   "metadata": {},
   "outputs": [],
   "source": [
    "List vs Numpy\n",
    "\n",
    "list = [10, 20, \"hlo\", 100.9, True]\n"
   ]
  },
  {
   "cell_type": "code",
   "execution_count": 9,
   "id": "b25dffcc-72b8-459c-ae75-48bd663d05e6",
   "metadata": {},
   "outputs": [
    {
     "name": "stdout",
     "output_type": "stream",
     "text": [
      "Requirement already satisfied: numpy in c:\\users\\17nru\\appdata\\local\\programs\\python\\python312\\lib\\site-packages (1.26.2)\n"
     ]
    },
    {
     "name": "stderr",
     "output_type": "stream",
     "text": [
      "\n",
      "[notice] A new release of pip is available: 23.2.1 -> 23.3.1\n",
      "[notice] To update, run: python.exe -m pip install --upgrade pip\n"
     ]
    }
   ],
   "source": [
    "# How To Install\n",
    "\n",
    "!pip install numpy"
   ]
  },
  {
   "cell_type": "code",
   "execution_count": null,
   "id": "e0bdda27-96ed-4d39-8f1d-31371d058c24",
   "metadata": {},
   "outputs": [],
   "source": []
  }
 ],
 "metadata": {
  "kernelspec": {
   "display_name": "Python 3 (ipykernel)",
   "language": "python",
   "name": "python3"
  },
  "language_info": {
   "codemirror_mode": {
    "name": "ipython",
    "version": 3
   },
   "file_extension": ".py",
   "mimetype": "text/x-python",
   "name": "python",
   "nbconvert_exporter": "python",
   "pygments_lexer": "ipython3",
   "version": "3.12.0"
  }
 },
 "nbformat": 4,
 "nbformat_minor": 5
}
