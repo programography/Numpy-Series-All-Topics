{
 "cells": [
  {
   "cell_type": "markdown",
   "id": "6ce5fdf1-5597-4649-8db7-6a25af32fe21",
   "metadata": {},
   "source": [
    "# Reshape In Numpy \n",
    "\n",
    "### Reshape function in NumPy is used to change the shape of an ndarray."
   ]
  },
  {
   "cell_type": "code",
   "execution_count": 68,
   "id": "8ffd33b4-f3a3-4164-afa7-92e2ace750b4",
   "metadata": {},
   "outputs": [],
   "source": [
    "import numpy as np"
   ]
  },
  {
   "cell_type": "code",
   "execution_count": 69,
   "id": "4e77fed9-e865-4c7d-8307-a809149c7114",
   "metadata": {},
   "outputs": [],
   "source": [
    "arr = np.array([12, 10, 90, 78, 56, 19, 78, 67, 34, 10])"
   ]
  },
  {
   "cell_type": "code",
   "execution_count": 71,
   "id": "5e8bd840-25fc-4f79-a42a-df9ce38cee4e",
   "metadata": {},
   "outputs": [
    {
     "data": {
      "text/plain": [
       "(10,)"
      ]
     },
     "execution_count": 71,
     "metadata": {},
     "output_type": "execute_result"
    }
   ],
   "source": [
    "arr.shape"
   ]
  },
  {
   "cell_type": "code",
   "execution_count": 72,
   "id": "2bf7bf78-6372-4a85-baba-b08b9fc81f0e",
   "metadata": {},
   "outputs": [],
   "source": [
    "# 2d => (rows, column)"
   ]
  },
  {
   "cell_type": "code",
   "execution_count": 73,
   "id": "bed3d60a-fb23-47fb-bc76-92310fb352b7",
   "metadata": {},
   "outputs": [],
   "source": [
    "new_arr = arr.reshape(2, 5)"
   ]
  },
  {
   "cell_type": "code",
   "execution_count": 74,
   "id": "e546d35f-288a-499b-91fc-0dfd14ad8537",
   "metadata": {},
   "outputs": [
    {
     "data": {
      "text/plain": [
       "array([[12, 10, 90, 78, 56],\n",
       "       [19, 78, 67, 34, 10]])"
      ]
     },
     "execution_count": 74,
     "metadata": {},
     "output_type": "execute_result"
    }
   ],
   "source": [
    "new_arr"
   ]
  },
  {
   "cell_type": "code",
   "execution_count": 75,
   "id": "92067b8a-f898-43f4-b29f-352646d7c900",
   "metadata": {},
   "outputs": [],
   "source": [
    "new_arr = arr.reshape(5, 2)"
   ]
  },
  {
   "cell_type": "code",
   "execution_count": 76,
   "id": "48a54075-eae3-4429-a1c7-510310680f41",
   "metadata": {},
   "outputs": [
    {
     "data": {
      "text/plain": [
       "array([[12, 10],\n",
       "       [90, 78],\n",
       "       [56, 19],\n",
       "       [78, 67],\n",
       "       [34, 10]])"
      ]
     },
     "execution_count": 76,
     "metadata": {},
     "output_type": "execute_result"
    }
   ],
   "source": [
    "new_arr"
   ]
  },
  {
   "cell_type": "code",
   "execution_count": 79,
   "id": "377fb30e-7506-4149-bc8e-7cb875d3966c",
   "metadata": {},
   "outputs": [],
   "source": [
    "# new_arr = arr.reshape(3, 3)"
   ]
  },
  {
   "cell_type": "code",
   "execution_count": null,
   "id": "4902d1e2-7e2a-4a90-81ea-43892ef55c40",
   "metadata": {},
   "outputs": [],
   "source": []
  },
  {
   "cell_type": "markdown",
   "id": "a8b99e85-29f8-44d4-9d83-75cba04ce19f",
   "metadata": {},
   "source": [
    "# 1d to 3d"
   ]
  },
  {
   "cell_type": "code",
   "execution_count": 80,
   "id": "49ff2d62-f7e6-46d8-becb-053b157eaf29",
   "metadata": {},
   "outputs": [],
   "source": [
    "x = np.array([12, 10, 90, 78, 56, 19, 78, 67, 34, 10, 12, 10])"
   ]
  },
  {
   "cell_type": "code",
   "execution_count": 84,
   "id": "3e083f4c-d696-44d0-b23d-ef3843ae3f4b",
   "metadata": {},
   "outputs": [
    {
     "data": {
      "text/plain": [
       "(12,)"
      ]
     },
     "execution_count": 84,
     "metadata": {},
     "output_type": "execute_result"
    }
   ],
   "source": [
    "x.shape"
   ]
  },
  {
   "cell_type": "code",
   "execution_count": 81,
   "id": "3c272452-1390-4939-82d6-527a8f177a3e",
   "metadata": {},
   "outputs": [
    {
     "data": {
      "text/plain": [
       "1"
      ]
     },
     "execution_count": 81,
     "metadata": {},
     "output_type": "execute_result"
    }
   ],
   "source": [
    "x.ndim"
   ]
  },
  {
   "cell_type": "code",
   "execution_count": 83,
   "id": "6a023706-3643-480d-a6b2-22275ecaba94",
   "metadata": {},
   "outputs": [],
   "source": [
    "# 3d =>  (depth, rows, columns)"
   ]
  },
  {
   "cell_type": "code",
   "execution_count": null,
   "id": "c8f91b8f-b915-4a33-97e7-269d2ac2c9dd",
   "metadata": {},
   "outputs": [],
   "source": []
  },
  {
   "cell_type": "code",
   "execution_count": 85,
   "id": "06bfcf6a-5264-4fd2-93ba-cca7509be007",
   "metadata": {},
   "outputs": [],
   "source": [
    "x_new = x.reshape(2, 2, 3)"
   ]
  },
  {
   "cell_type": "code",
   "execution_count": 86,
   "id": "9c61b86d-6501-4158-837b-b227e5aa0d6d",
   "metadata": {},
   "outputs": [
    {
     "data": {
      "text/plain": [
       "array([[[12, 10, 90],\n",
       "        [78, 56, 19]],\n",
       "\n",
       "       [[78, 67, 34],\n",
       "        [10, 12, 10]]])"
      ]
     },
     "execution_count": 86,
     "metadata": {},
     "output_type": "execute_result"
    }
   ],
   "source": [
    "x_new"
   ]
  },
  {
   "cell_type": "code",
   "execution_count": null,
   "id": "531c8598-31ec-44c0-9c50-121ffb142c9a",
   "metadata": {},
   "outputs": [],
   "source": []
  }
 ],
 "metadata": {
  "kernelspec": {
   "display_name": "Python 3 (ipykernel)",
   "language": "python",
   "name": "python3"
  },
  "language_info": {
   "codemirror_mode": {
    "name": "ipython",
    "version": 3
   },
   "file_extension": ".py",
   "mimetype": "text/x-python",
   "name": "python",
   "nbconvert_exporter": "python",
   "pygments_lexer": "ipython3",
   "version": "3.12.0"
  }
 },
 "nbformat": 4,
 "nbformat_minor": 5
}
