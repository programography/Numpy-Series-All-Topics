{
 "cells": [
  {
   "cell_type": "markdown",
   "id": "79a10ede-5c65-4aac-a7f7-993128bf7074",
   "metadata": {},
   "source": [
    "# Reshape In Numpy - 2\n",
    "\n",
    "### Reshape function in NumPy is used to change the shape of an ndarray."
   ]
  },
  {
   "cell_type": "code",
   "execution_count": 9,
   "id": "d877a69e-7e21-4ddd-bfad-4a5b6a6e9126",
   "metadata": {},
   "outputs": [],
   "source": [
    "import numpy as np"
   ]
  },
  {
   "cell_type": "code",
   "execution_count": 10,
   "id": "7f221276-25f0-49f3-9242-8278be33a0af",
   "metadata": {},
   "outputs": [],
   "source": [
    "arr = np.array([[12, 10, 10, 20, 30], [45, 34, 56, 34, 23]])"
   ]
  },
  {
   "cell_type": "code",
   "execution_count": 11,
   "id": "7ed8b67b-3203-4be6-a477-a08f5218e397",
   "metadata": {},
   "outputs": [
    {
     "data": {
      "text/plain": [
       "array([[12, 10, 10, 20, 30],\n",
       "       [45, 34, 56, 34, 23]])"
      ]
     },
     "execution_count": 11,
     "metadata": {},
     "output_type": "execute_result"
    }
   ],
   "source": [
    "arr"
   ]
  },
  {
   "cell_type": "code",
   "execution_count": 12,
   "id": "6c63c476-3ec0-4533-94e7-1b8045fceac0",
   "metadata": {},
   "outputs": [],
   "source": [
    "new_arr = arr.reshape(-1)"
   ]
  },
  {
   "cell_type": "code",
   "execution_count": 14,
   "id": "af13b3bb-542e-4075-b39b-47880337662d",
   "metadata": {},
   "outputs": [
    {
     "data": {
      "text/plain": [
       "1"
      ]
     },
     "execution_count": 14,
     "metadata": {},
     "output_type": "execute_result"
    }
   ],
   "source": [
    "new_arr.ndim"
   ]
  },
  {
   "cell_type": "code",
   "execution_count": 15,
   "id": "02d0efef-1566-441c-9970-5c74c4684af6",
   "metadata": {},
   "outputs": [
    {
     "data": {
      "text/plain": [
       "(10,)"
      ]
     },
     "execution_count": 15,
     "metadata": {},
     "output_type": "execute_result"
    }
   ],
   "source": [
    "-new_arr.shape"
   ]
  },
  {
   "cell_type": "code",
   "execution_count": null,
   "id": "e57abb27-f985-4a18-ac2d-0765775f31af",
   "metadata": {},
   "outputs": [],
   "source": []
  },
  {
   "cell_type": "markdown",
   "id": "4b6ea92c-1d47-4ad6-bd86-6d1676b2a4d0",
   "metadata": {},
   "source": [
    "# 3d -->  1d"
   ]
  },
  {
   "cell_type": "code",
   "execution_count": 20,
   "id": "fbea0c07-7e09-40e6-80d2-63ee17ae121e",
   "metadata": {},
   "outputs": [],
   "source": [
    "xyz = np.array([[[12, 10, 90, 10], [23, 10, 90, 78]], [[23, 10, 90, 78], [45, 23, 12, 34]]])\n"
   ]
  },
  {
   "cell_type": "code",
   "execution_count": 22,
   "id": "777a2cb6-34ce-496d-9980-792b68175320",
   "metadata": {},
   "outputs": [
    {
     "data": {
      "text/plain": [
       "3"
      ]
     },
     "execution_count": 22,
     "metadata": {},
     "output_type": "execute_result"
    }
   ],
   "source": [
    "xyz.ndim"
   ]
  },
  {
   "cell_type": "code",
   "execution_count": 23,
   "id": "593f75d2-ff20-43a9-87d1-760e21cf61ed",
   "metadata": {},
   "outputs": [
    {
     "data": {
      "text/plain": [
       "(2, 2, 4)"
      ]
     },
     "execution_count": 23,
     "metadata": {},
     "output_type": "execute_result"
    }
   ],
   "source": [
    "xyz.shape"
   ]
  },
  {
   "cell_type": "code",
   "execution_count": 24,
   "id": "d053d138-d533-4118-98e9-13f92964a277",
   "metadata": {},
   "outputs": [
    {
     "data": {
      "text/plain": [
       "array([[[12, 10, 90, 10],\n",
       "        [23, 10, 90, 78]],\n",
       "\n",
       "       [[23, 10, 90, 78],\n",
       "        [45, 23, 12, 34]]])"
      ]
     },
     "execution_count": 24,
     "metadata": {},
     "output_type": "execute_result"
    }
   ],
   "source": [
    "xyz"
   ]
  },
  {
   "cell_type": "code",
   "execution_count": 25,
   "id": "b12fa9de-d622-407c-8b1e-7d940081a50c",
   "metadata": {},
   "outputs": [],
   "source": [
    "new_xyz = xyz.reshape(-1)"
   ]
  },
  {
   "cell_type": "code",
   "execution_count": 26,
   "id": "0b9a8a16-6e23-44ce-8059-1a5af32ecf6e",
   "metadata": {},
   "outputs": [
    {
     "data": {
      "text/plain": [
       "array([12, 10, 90, 10, 23, 10, 90, 78, 23, 10, 90, 78, 45, 23, 12, 34])"
      ]
     },
     "execution_count": 26,
     "metadata": {},
     "output_type": "execute_result"
    }
   ],
   "source": [
    "new_xyz"
   ]
  },
  {
   "cell_type": "code",
   "execution_count": null,
   "id": "c6724ff0-569f-41ea-996f-f409f68577ba",
   "metadata": {},
   "outputs": [],
   "source": []
  },
  {
   "cell_type": "markdown",
   "id": "e6aff465-87dc-48e8-bb0d-8a3202bd64e0",
   "metadata": {},
   "source": [
    "# 3d --> 2d"
   ]
  },
  {
   "cell_type": "code",
   "execution_count": 28,
   "id": "84ee4d6d-84e0-4a72-afef-d94e729a0d0a",
   "metadata": {},
   "outputs": [],
   "source": [
    "xyz = np.array([[[12, 10, 90, 10], [23, 10, 90, 78]], [[23, 10, 90, 78], [45, 23, 12, 34]]])\n"
   ]
  },
  {
   "cell_type": "code",
   "execution_count": 34,
   "id": "975ad036-d8dd-47b9-9392-2577991c7ad5",
   "metadata": {},
   "outputs": [],
   "source": [
    "new = xyz.reshape(-1, 4)"
   ]
  },
  {
   "cell_type": "code",
   "execution_count": 35,
   "id": "ebe16660-5e68-404f-b9aa-dec747fd957f",
   "metadata": {},
   "outputs": [
    {
     "data": {
      "text/plain": [
       "array([[12, 10, 90, 10],\n",
       "       [23, 10, 90, 78],\n",
       "       [23, 10, 90, 78],\n",
       "       [45, 23, 12, 34]])"
      ]
     },
     "execution_count": 35,
     "metadata": {},
     "output_type": "execute_result"
    }
   ],
   "source": [
    "\n",
    "new"
   ]
  },
  {
   "cell_type": "code",
   "execution_count": null,
   "id": "20862906-5308-4c50-90d5-2d5f16a339f3",
   "metadata": {},
   "outputs": [],
   "source": []
  },
  {
   "cell_type": "code",
   "execution_count": 45,
   "id": "e0449640-d0a1-47cd-bfc6-04bd2c1956b5",
   "metadata": {},
   "outputs": [],
   "source": [
    "arr = np.array([12, 10, 20, 89, 10, 200, 90, 89, 90])"
   ]
  },
  {
   "cell_type": "code",
   "execution_count": 46,
   "id": "b51472d6-0f70-4cd8-9aee-d2518ff39062",
   "metadata": {},
   "outputs": [],
   "source": [
    "newarr = arr.reshape(3, -1)"
   ]
  },
  {
   "cell_type": "code",
   "execution_count": 47,
   "id": "c3f7124e-2fb9-418e-8930-79d8f0ebeadf",
   "metadata": {},
   "outputs": [
    {
     "data": {
      "text/plain": [
       "array([[ 12,  10,  20],\n",
       "       [ 89,  10, 200],\n",
       "       [ 90,  89,  90]])"
      ]
     },
     "execution_count": 47,
     "metadata": {},
     "output_type": "execute_result"
    }
   ],
   "source": [
    "newarr"
   ]
  },
  {
   "cell_type": "code",
   "execution_count": null,
   "id": "a67fe7c4-d93a-45b3-a92a-7c421bdaa893",
   "metadata": {},
   "outputs": [],
   "source": []
  }
 ],
 "metadata": {
  "kernelspec": {
   "display_name": "Python 3 (ipykernel)",
   "language": "python",
   "name": "python3"
  },
  "language_info": {
   "codemirror_mode": {
    "name": "ipython",
    "version": 3
   },
   "file_extension": ".py",
   "mimetype": "text/x-python",
   "name": "python",
   "nbconvert_exporter": "python",
   "pygments_lexer": "ipython3",
   "version": "3.12.0"
  }
 },
 "nbformat": 4,
 "nbformat_minor": 5
}
