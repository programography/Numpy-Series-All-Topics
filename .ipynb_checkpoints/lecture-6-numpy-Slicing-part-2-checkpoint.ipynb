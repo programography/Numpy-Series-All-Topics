{
 "cells": [
  {
   "cell_type": "markdown",
   "id": "925956f4-a46c-48cb-bbd7-2958ac5f56ba",
   "metadata": {},
   "source": [
    "# Slicing In Numpy Array"
   ]
  },
  {
   "cell_type": "markdown",
   "id": "c4840270-0d97-4b55-b746-563b4b714fdc",
   "metadata": {},
   "source": [
    "# slicing:   [start : end : increment]"
   ]
  },
  {
   "cell_type": "code",
   "execution_count": null,
   "id": "24788865-14e6-4205-9e07-2b3067aac7f2",
   "metadata": {},
   "outputs": [],
   "source": [
    "[start : end : increment]\n",
    "\n",
    "default values:\n",
    "start : 0\n",
    "end = n - 1\n",
    "increment = 1"
   ]
  },
  {
   "cell_type": "code",
   "execution_count": 1,
   "id": "bbce53ef-d13a-422e-a5b6-1d8a7ff3773c",
   "metadata": {},
   "outputs": [],
   "source": [
    "\n",
    "import numpy as np"
   ]
  },
  {
   "cell_type": "code",
   "execution_count": 2,
   "id": "5cf6c370-31a4-4273-9376-7c1f3cc6252e",
   "metadata": {},
   "outputs": [],
   "source": [
    "arr = np.array([12, 10, 10, 20, 39, 89])"
   ]
  },
  {
   "cell_type": "code",
   "execution_count": 5,
   "id": "7b55cc2e-1b22-4d22-9b4c-b1e149bbc97c",
   "metadata": {},
   "outputs": [
    {
     "data": {
      "text/plain": [
       "array([10, 10, 20, 39])"
      ]
     },
     "execution_count": 5,
     "metadata": {},
     "output_type": "execute_result"
    }
   ],
   "source": [
    "arr[1 : 5 : 1]"
   ]
  },
  {
   "cell_type": "code",
   "execution_count": null,
   "id": "76d909a1-0ca9-4529-9b56-ad03b112b3fa",
   "metadata": {},
   "outputs": [],
   "source": []
  },
  {
   "cell_type": "code",
   "execution_count": 8,
   "id": "b3dc8a87-8218-4974-a5df-5bba48bebcde",
   "metadata": {},
   "outputs": [],
   "source": [
    "arr1 = np.array([[12, 10, 90, 100, 90], [34, 10, 78, 80, 78]])"
   ]
  },
  {
   "cell_type": "code",
   "execution_count": 10,
   "id": "008c25eb-cdd4-4276-b829-aaaa794843ac",
   "metadata": {},
   "outputs": [
    {
     "data": {
      "text/plain": [
       "2"
      ]
     },
     "execution_count": 10,
     "metadata": {},
     "output_type": "execute_result"
    }
   ],
   "source": [
    "arr1.ndim"
   ]
  },
  {
   "cell_type": "code",
   "execution_count": 13,
   "id": "54cc9860-a6aa-44cc-80a2-b1fb22369a56",
   "metadata": {},
   "outputs": [
    {
     "data": {
      "text/plain": [
       "array([10, 78, 80])"
      ]
     },
     "execution_count": 13,
     "metadata": {},
     "output_type": "execute_result"
    }
   ],
   "source": [
    "arr1[1, 1 : 4]"
   ]
  },
  {
   "cell_type": "code",
   "execution_count": 15,
   "id": "42d7006d-d7de-4776-b5a5-bb51ae2f6f75",
   "metadata": {},
   "outputs": [
    {
     "data": {
      "text/plain": [
       "array([ 90, 100,  90])"
      ]
     },
     "execution_count": 15,
     "metadata": {},
     "output_type": "execute_result"
    }
   ],
   "source": [
    "arr1[0, 2 : ]"
   ]
  },
  {
   "cell_type": "code",
   "execution_count": null,
   "id": "34af0974-ddb0-4aed-aa46-99c37e4064f1",
   "metadata": {},
   "outputs": [],
   "source": []
  },
  {
   "cell_type": "code",
   "execution_count": 20,
   "id": "c6d9d9d6-202c-48d9-a5fd-655031eb49d3",
   "metadata": {},
   "outputs": [],
   "source": [
    "arr2 = np.array([[[12, 10, 90, 100, 90], [34, 10, 78, 80, 78]], [[30, 89, 56, 23, 54], [23, 56, 23, 34, 23]]])"
   ]
  },
  {
   "cell_type": "code",
   "execution_count": 21,
   "id": "e3221ef0-dc24-4927-990e-2dfdb16cfade",
   "metadata": {},
   "outputs": [
    {
     "data": {
      "text/plain": [
       "3"
      ]
     },
     "execution_count": 21,
     "metadata": {},
     "output_type": "execute_result"
    }
   ],
   "source": [
    "arr2.ndim"
   ]
  },
  {
   "cell_type": "code",
   "execution_count": 22,
   "id": "3d1003ec-cbaa-4509-bafb-1baee2283a4e",
   "metadata": {},
   "outputs": [
    {
     "data": {
      "text/plain": [
       "array([[[ 12,  10,  90, 100,  90],\n",
       "        [ 34,  10,  78,  80,  78]],\n",
       "\n",
       "       [[ 30,  89,  56,  23,  54],\n",
       "        [ 23,  56,  23,  34,  23]]])"
      ]
     },
     "execution_count": 22,
     "metadata": {},
     "output_type": "execute_result"
    }
   ],
   "source": [
    "arr2"
   ]
  },
  {
   "cell_type": "code",
   "execution_count": 26,
   "id": "c01f3214-43e6-4720-9a8c-f18c3bba2ceb",
   "metadata": {},
   "outputs": [
    {
     "data": {
      "text/plain": [
       "array([10, 78, 80])"
      ]
     },
     "execution_count": 26,
     "metadata": {},
     "output_type": "execute_result"
    }
   ],
   "source": [
    "arr2[0, 1, 1 : 4]"
   ]
  },
  {
   "cell_type": "code",
   "execution_count": 30,
   "id": "28ffc0f3-45b2-497b-9e3f-aa5dfc125f22",
   "metadata": {},
   "outputs": [
    {
     "data": {
      "text/plain": [
       "array([89, 56, 23, 54])"
      ]
     },
     "execution_count": 30,
     "metadata": {},
     "output_type": "execute_result"
    }
   ],
   "source": [
    "arr2[1, 0, 1 : ]"
   ]
  },
  {
   "cell_type": "code",
   "execution_count": null,
   "id": "d315ffe7-605e-4537-8528-352e56a2ab02",
   "metadata": {},
   "outputs": [],
   "source": []
  }
 ],
 "metadata": {
  "kernelspec": {
   "display_name": "Python 3 (ipykernel)",
   "language": "python",
   "name": "python3"
  },
  "language_info": {
   "codemirror_mode": {
    "name": "ipython",
    "version": 3
   },
   "file_extension": ".py",
   "mimetype": "text/x-python",
   "name": "python",
   "nbconvert_exporter": "python",
   "pygments_lexer": "ipython3",
   "version": "3.12.0"
  }
 },
 "nbformat": 4,
 "nbformat_minor": 5
}
