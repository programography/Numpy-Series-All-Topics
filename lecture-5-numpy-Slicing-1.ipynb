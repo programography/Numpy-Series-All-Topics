{
 "cells": [
  {
   "cell_type": "markdown",
   "id": "925956f4-a46c-48cb-bbd7-2958ac5f56ba",
   "metadata": {},
   "source": [
    "# Slicing In Numpy Array"
   ]
  },
  {
   "cell_type": "code",
   "execution_count": 3,
   "id": "ad7d42b7-1240-4773-83f3-f3b6653605ab",
   "metadata": {},
   "outputs": [],
   "source": [
    "import numpy as np"
   ]
  },
  {
   "cell_type": "code",
   "execution_count": 4,
   "id": "93bea3dd-f7b9-4619-9788-d598b4af3ef0",
   "metadata": {},
   "outputs": [],
   "source": [
    "arr = np.array([10, 20, 89, 10])"
   ]
  },
  {
   "cell_type": "code",
   "execution_count": 7,
   "id": "ce1a2154-e3eb-4082-99c7-d53ade474760",
   "metadata": {},
   "outputs": [],
   "source": [
    "# arr.ndim"
   ]
  },
  {
   "cell_type": "code",
   "execution_count": 8,
   "id": "3451410c-df67-4b3a-aab4-c2cbe8715074",
   "metadata": {},
   "outputs": [
    {
     "data": {
      "text/plain": [
       "89"
      ]
     },
     "execution_count": 8,
     "metadata": {},
     "output_type": "execute_result"
    }
   ],
   "source": [
    "arr[2]"
   ]
  },
  {
   "cell_type": "code",
   "execution_count": 9,
   "id": "a39d09de-190f-40bf-8f72-5ca566eb8e8b",
   "metadata": {},
   "outputs": [
    {
     "data": {
      "text/plain": [
       "89"
      ]
     },
     "execution_count": 9,
     "metadata": {},
     "output_type": "execute_result"
    }
   ],
   "source": [
    "arr[-2]"
   ]
  },
  {
   "cell_type": "code",
   "execution_count": 10,
   "id": "d6caa9e7-4dde-43cd-a7c4-730867a23ebd",
   "metadata": {},
   "outputs": [
    {
     "data": {
      "text/plain": [
       "10"
      ]
     },
     "execution_count": 10,
     "metadata": {},
     "output_type": "execute_result"
    }
   ],
   "source": [
    "arr[-1]"
   ]
  },
  {
   "cell_type": "code",
   "execution_count": null,
   "id": "c43b3304-8889-4994-b48a-135864d50358",
   "metadata": {},
   "outputs": [],
   "source": []
  },
  {
   "cell_type": "code",
   "execution_count": 11,
   "id": "0f483308-c4d7-437f-86b8-515b70bedb2f",
   "metadata": {},
   "outputs": [],
   "source": [
    "arr = np.array([12, 10, 90, 89, 18, 78, 67, 58, 10])"
   ]
  },
  {
   "cell_type": "code",
   "execution_count": 13,
   "id": "973a7c32-e08e-49e1-81f1-abc7772d950c",
   "metadata": {},
   "outputs": [
    {
     "data": {
      "text/plain": [
       "90"
      ]
     },
     "execution_count": 13,
     "metadata": {},
     "output_type": "execute_result"
    }
   ],
   "source": [
    "arr[2]"
   ]
  },
  {
   "cell_type": "markdown",
   "id": "c4840270-0d97-4b55-b746-563b4b714fdc",
   "metadata": {},
   "source": [
    "# slicing:   [start : end : increment]"
   ]
  },
  {
   "cell_type": "code",
   "execution_count": null,
   "id": "24788865-14e6-4205-9e07-2b3067aac7f2",
   "metadata": {},
   "outputs": [],
   "source": [
    "[start : end : increment]\n",
    "\n",
    "default values:\n",
    "start : 0\n",
    "end = n - 1\n",
    "increment = 1"
   ]
  },
  {
   "cell_type": "code",
   "execution_count": 14,
   "id": "7f5947ff-5cef-4dcb-aed0-a0e7f3211ede",
   "metadata": {},
   "outputs": [],
   "source": [
    "arr = np.array([12, 10, 90, 89, 18, 78, 67, 58, 10])"
   ]
  },
  {
   "cell_type": "code",
   "execution_count": 17,
   "id": "8747100f-49a0-413b-8ab5-78a2c07b8e27",
   "metadata": {},
   "outputs": [
    {
     "data": {
      "text/plain": [
       "array([90, 89, 18, 78])"
      ]
     },
     "execution_count": 17,
     "metadata": {},
     "output_type": "execute_result"
    }
   ],
   "source": [
    "arr[2 : 6 : 1]"
   ]
  },
  {
   "cell_type": "code",
   "execution_count": 19,
   "id": "2a369e83-94c7-432b-bff2-0dff05c307bb",
   "metadata": {},
   "outputs": [
    {
     "data": {
      "text/plain": [
       "array([89, 18, 78, 67, 58])"
      ]
     },
     "execution_count": 19,
     "metadata": {},
     "output_type": "execute_result"
    }
   ],
   "source": [
    "arr[3 : 8 ]"
   ]
  },
  {
   "cell_type": "code",
   "execution_count": null,
   "id": "68aedb83-15ab-49de-b8dd-9ade2968b9ab",
   "metadata": {},
   "outputs": [],
   "source": []
  },
  {
   "cell_type": "code",
   "execution_count": 20,
   "id": "401ea1cb-3fd4-4ace-b3c8-ddc62bb1d313",
   "metadata": {},
   "outputs": [],
   "source": [
    "arr = np.array([12, 10, 90, 89, 18, 78, 67, 58, 10])"
   ]
  },
  {
   "cell_type": "code",
   "execution_count": 21,
   "id": "d8450e10-53bb-455c-b01d-a111c235d0aa",
   "metadata": {},
   "outputs": [
    {
     "data": {
      "text/plain": [
       "array([90, 89, 18, 78, 67, 58, 10])"
      ]
     },
     "execution_count": 21,
     "metadata": {},
     "output_type": "execute_result"
    }
   ],
   "source": [
    "arr[2 : ]"
   ]
  },
  {
   "cell_type": "code",
   "execution_count": 22,
   "id": "477bab33-755d-4592-be3f-493e35287b43",
   "metadata": {},
   "outputs": [
    {
     "data": {
      "text/plain": [
       "array([12, 10, 90, 89, 18])"
      ]
     },
     "execution_count": 22,
     "metadata": {},
     "output_type": "execute_result"
    }
   ],
   "source": [
    "arr[ : 5]"
   ]
  },
  {
   "cell_type": "code",
   "execution_count": 25,
   "id": "01717e78-81b0-49a7-906c-081d78754b3e",
   "metadata": {},
   "outputs": [
    {
     "data": {
      "text/plain": [
       "array([12, 89, 67])"
      ]
     },
     "execution_count": 25,
     "metadata": {},
     "output_type": "execute_result"
    }
   ],
   "source": [
    "arr[: : 3]"
   ]
  },
  {
   "cell_type": "code",
   "execution_count": 27,
   "id": "8703e794-080d-4a56-9070-a7e7ebbbcf2c",
   "metadata": {},
   "outputs": [
    {
     "data": {
      "text/plain": [
       "array([10, 58, 67, 78, 18, 89, 90, 10, 12])"
      ]
     },
     "execution_count": 27,
     "metadata": {},
     "output_type": "execute_result"
    }
   ],
   "source": [
    "arr[: : -1]"
   ]
  },
  {
   "cell_type": "code",
   "execution_count": null,
   "id": "bbce53ef-d13a-422e-a5b6-1d8a7ff3773c",
   "metadata": {},
   "outputs": [],
   "source": []
  }
 ],
 "metadata": {
  "kernelspec": {
   "display_name": "Python 3 (ipykernel)",
   "language": "python",
   "name": "python3"
  },
  "language_info": {
   "codemirror_mode": {
    "name": "ipython",
    "version": 3
   },
   "file_extension": ".py",
   "mimetype": "text/x-python",
   "name": "python",
   "nbconvert_exporter": "python",
   "pygments_lexer": "ipython3",
   "version": "3.12.0"
  }
 },
 "nbformat": 4,
 "nbformat_minor": 5
}
