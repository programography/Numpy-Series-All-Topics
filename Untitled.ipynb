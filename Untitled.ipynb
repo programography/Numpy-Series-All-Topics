{
 "cells": [
  {
   "cell_type": "code",
   "execution_count": 1,
   "id": "835736dc-0c4c-41ee-bb7b-8009f4858108",
   "metadata": {},
   "outputs": [],
   "source": [
    "import numpy as np"
   ]
  },
  {
   "cell_type": "code",
   "execution_count": 2,
   "id": "3f14880b-2811-47bc-81aa-1c97f9cca603",
   "metadata": {},
   "outputs": [],
   "source": [
    "arr = np.array([1, 2, 3, 4, 5])\n"
   ]
  },
  {
   "cell_type": "code",
   "execution_count": 3,
   "id": "1cd91ed4-7fbf-4ac9-9dd4-092096490d2e",
   "metadata": {},
   "outputs": [],
   "source": [
    "x = arr.copy()"
   ]
  },
  {
   "cell_type": "code",
   "execution_count": 4,
   "id": "9bc2a8a1-08b5-40eb-812a-0f82afeb6ce0",
   "metadata": {},
   "outputs": [
    {
     "data": {
      "text/plain": [
       "array([1, 2, 3, 4, 5])"
      ]
     },
     "execution_count": 4,
     "metadata": {},
     "output_type": "execute_result"
    }
   ],
   "source": [
    "x"
   ]
  },
  {
   "cell_type": "code",
   "execution_count": 5,
   "id": "149e5326-90ce-4f84-a9f6-44be6b3e7413",
   "metadata": {},
   "outputs": [],
   "source": [
    "x[3] = 90"
   ]
  },
  {
   "cell_type": "code",
   "execution_count": 6,
   "id": "8ad3108c-fcbb-4fc1-a5d6-6f0a067861a0",
   "metadata": {},
   "outputs": [
    {
     "data": {
      "text/plain": [
       "array([ 1,  2,  3, 90,  5])"
      ]
     },
     "execution_count": 6,
     "metadata": {},
     "output_type": "execute_result"
    }
   ],
   "source": [
    "x"
   ]
  },
  {
   "cell_type": "code",
   "execution_count": 7,
   "id": "bf7128cf-640a-4b11-9ef1-8de002aa6549",
   "metadata": {},
   "outputs": [],
   "source": [
    "y = arr.view()"
   ]
  },
  {
   "cell_type": "code",
   "execution_count": 8,
   "id": "cd90f102-5b5c-4ac3-9efe-c072dd4c89a0",
   "metadata": {},
   "outputs": [
    {
     "data": {
      "text/plain": [
       "array([1, 2, 3, 4, 5])"
      ]
     },
     "execution_count": 8,
     "metadata": {},
     "output_type": "execute_result"
    }
   ],
   "source": [
    "y"
   ]
  },
  {
   "cell_type": "code",
   "execution_count": 9,
   "id": "a07458c2-a7af-4565-9e6c-8d9780977ea1",
   "metadata": {},
   "outputs": [],
   "source": [
    "y[2] = 90"
   ]
  },
  {
   "cell_type": "code",
   "execution_count": 10,
   "id": "6af65f5c-30d3-4a32-ae54-5291cf95cde3",
   "metadata": {},
   "outputs": [
    {
     "data": {
      "text/plain": [
       "array([ 1,  2, 90,  4,  5])"
      ]
     },
     "execution_count": 10,
     "metadata": {},
     "output_type": "execute_result"
    }
   ],
   "source": [
    "y"
   ]
  },
  {
   "cell_type": "code",
   "execution_count": 11,
   "id": "f83c1d50-391f-4990-80d2-1bff156113f7",
   "metadata": {},
   "outputs": [
    {
     "data": {
      "text/plain": [
       "array([ 1,  2, 90,  4,  5])"
      ]
     },
     "execution_count": 11,
     "metadata": {},
     "output_type": "execute_result"
    }
   ],
   "source": [
    "arr"
   ]
  },
  {
   "cell_type": "code",
   "execution_count": 12,
   "id": "03bfe54f-7982-4511-83a3-3e8fbf832c88",
   "metadata": {},
   "outputs": [],
   "source": [
    "arr3 = np.array([[[12, 10, 89, 67], [23, 45, 23, 12]], [[34, 45, 23, 12], [56, 34, 23, 23]]])"
   ]
  },
  {
   "cell_type": "code",
   "execution_count": 14,
   "id": "3203a082-1be4-4af8-ac1b-df692d0e7faf",
   "metadata": {},
   "outputs": [
    {
     "data": {
      "text/plain": [
       "(2, 2, 4)"
      ]
     },
     "execution_count": 14,
     "metadata": {},
     "output_type": "execute_result"
    }
   ],
   "source": [
    "arr3.shape"
   ]
  },
  {
   "cell_type": "code",
   "execution_count": 16,
   "id": "e6a8a96c-592d-4b15-a5f5-72504bcf6b31",
   "metadata": {},
   "outputs": [
    {
     "data": {
      "text/plain": [
       "array([[[12, 10, 89, 67],\n",
       "        [23, 45, 23, 12]],\n",
       "\n",
       "       [[34, 45, 23, 12],\n",
       "        [56, 34, 23, 23]]])"
      ]
     },
     "execution_count": 16,
     "metadata": {},
     "output_type": "execute_result"
    }
   ],
   "source": [
    "arr3"
   ]
  },
  {
   "cell_type": "code",
   "execution_count": null,
   "id": "bb473d7c-da93-4378-b663-b7db51641a16",
   "metadata": {},
   "outputs": [],
   "source": []
  },
  {
   "cell_type": "code",
   "execution_count": 17,
   "id": "43918b8e-f16f-453a-a382-588ead0cf6f2",
   "metadata": {},
   "outputs": [],
   "source": [
    "arr_3d = np.array([[[1, 2, 3], [4, 5, 6]], [[7, 8, 9], [10, 11, 12]], [[13, 14, 15], [16, 17, 18]]])\n"
   ]
  },
  {
   "cell_type": "code",
   "execution_count": 18,
   "id": "0b6c8963-c5d4-4a9c-bb66-1334a30c2357",
   "metadata": {},
   "outputs": [
    {
     "data": {
      "text/plain": [
       "(3, 2, 3)"
      ]
     },
     "execution_count": 18,
     "metadata": {},
     "output_type": "execute_result"
    }
   ],
   "source": [
    "arr_3d.shape"
   ]
  },
  {
   "cell_type": "code",
   "execution_count": null,
   "id": "e5ebe718-f2b6-4510-9a01-43b733882065",
   "metadata": {},
   "outputs": [],
   "source": []
  }
 ],
 "metadata": {
  "kernelspec": {
   "display_name": "Python 3 (ipykernel)",
   "language": "python",
   "name": "python3"
  },
  "language_info": {
   "codemirror_mode": {
    "name": "ipython",
    "version": 3
   },
   "file_extension": ".py",
   "mimetype": "text/x-python",
   "name": "python",
   "nbconvert_exporter": "python",
   "pygments_lexer": "ipython3",
   "version": "3.12.0"
  }
 },
 "nbformat": 4,
 "nbformat_minor": 5
}
