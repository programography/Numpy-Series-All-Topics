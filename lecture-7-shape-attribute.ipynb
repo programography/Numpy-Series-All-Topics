{
 "cells": [
  {
   "cell_type": "markdown",
   "id": "4468592c-4761-483e-a17a-2b98802a982e",
   "metadata": {},
   "source": [
    "# Shape Attribute in Numpy Array\n",
    "\n",
    "###     It define number of elements in each dimension."
   ]
  },
  {
   "cell_type": "code",
   "execution_count": 1,
   "id": "6c1cd0f2-7c1e-469d-ad84-b0bfbe4fc8c8",
   "metadata": {},
   "outputs": [],
   "source": [
    "import numpy as np"
   ]
  },
  {
   "cell_type": "code",
   "execution_count": 2,
   "id": "a1b1f787-923f-488a-8d02-01740f9c921b",
   "metadata": {},
   "outputs": [],
   "source": [
    "arr = np.array([12, 10, 90, 10])"
   ]
  },
  {
   "cell_type": "code",
   "execution_count": 5,
   "id": "f679fa3e-21c2-4fee-98d3-7cf86ddd0981",
   "metadata": {},
   "outputs": [
    {
     "data": {
      "text/plain": [
       "1"
      ]
     },
     "execution_count": 5,
     "metadata": {},
     "output_type": "execute_result"
    }
   ],
   "source": [
    "arr.ndim"
   ]
  },
  {
   "cell_type": "code",
   "execution_count": 6,
   "id": "caf8eca2-320d-442f-ab80-7699f50d7de1",
   "metadata": {},
   "outputs": [
    {
     "data": {
      "text/plain": [
       "(4,)"
      ]
     },
     "execution_count": 6,
     "metadata": {},
     "output_type": "execute_result"
    }
   ],
   "source": [
    "arr.shape"
   ]
  },
  {
   "cell_type": "code",
   "execution_count": 7,
   "id": "4367f81f-94cc-4585-8a13-6f480119bba3",
   "metadata": {},
   "outputs": [],
   "source": [
    "arr2 = np.array([[12, 10, 89, 78], [12, 90, 89, 67]])"
   ]
  },
  {
   "cell_type": "code",
   "execution_count": 8,
   "id": "e6135362-9c4d-41df-a2c8-7ca74222abe0",
   "metadata": {},
   "outputs": [
    {
     "data": {
      "text/plain": [
       "array([[12, 10, 89, 78],\n",
       "       [12, 90, 89, 67]])"
      ]
     },
     "execution_count": 8,
     "metadata": {},
     "output_type": "execute_result"
    }
   ],
   "source": [
    "arr2"
   ]
  },
  {
   "cell_type": "code",
   "execution_count": 9,
   "id": "85eb893c-572c-4d7a-8d18-85bdd99a0c69",
   "metadata": {},
   "outputs": [
    {
     "data": {
      "text/plain": [
       "2"
      ]
     },
     "execution_count": 9,
     "metadata": {},
     "output_type": "execute_result"
    }
   ],
   "source": [
    "arr2.ndim"
   ]
  },
  {
   "cell_type": "code",
   "execution_count": 10,
   "id": "8465884d-c849-4fad-af31-7cd441afb3bf",
   "metadata": {},
   "outputs": [
    {
     "data": {
      "text/plain": [
       "(2, 4)"
      ]
     },
     "execution_count": 10,
     "metadata": {},
     "output_type": "execute_result"
    }
   ],
   "source": [
    "arr2.shape"
   ]
  },
  {
   "cell_type": "code",
   "execution_count": 13,
   "id": "15b4556b-00aa-4352-835d-b0bd09197b5e",
   "metadata": {},
   "outputs": [],
   "source": [
    "arr3 = np.array([[[12, 10, 90, 10, 90], [12, 90, 78, 10, 89]], [[23, 10, 89, 78, 56], [23, 10, 89, 37, 90]]])"
   ]
  },
  {
   "cell_type": "code",
   "execution_count": 14,
   "id": "5bda79b0-3ef8-4b92-8068-dac7ef3bb89d",
   "metadata": {},
   "outputs": [
    {
     "data": {
      "text/plain": [
       "3"
      ]
     },
     "execution_count": 14,
     "metadata": {},
     "output_type": "execute_result"
    }
   ],
   "source": [
    "arr3.ndim"
   ]
  },
  {
   "cell_type": "code",
   "execution_count": 15,
   "id": "d07ac567-df3d-46f7-993d-f22438895545",
   "metadata": {},
   "outputs": [
    {
     "data": {
      "text/plain": [
       "array([[[12, 10, 90, 10, 90],\n",
       "        [12, 90, 78, 10, 89]],\n",
       "\n",
       "       [[23, 10, 89, 78, 56],\n",
       "        [23, 10, 89, 37, 90]]])"
      ]
     },
     "execution_count": 15,
     "metadata": {},
     "output_type": "execute_result"
    }
   ],
   "source": [
    "arr3"
   ]
  },
  {
   "cell_type": "code",
   "execution_count": 16,
   "id": "9c047de2-c7fc-4f45-9aad-e710019295ca",
   "metadata": {},
   "outputs": [
    {
     "data": {
      "text/plain": [
       "(2, 2, 5)"
      ]
     },
     "execution_count": 16,
     "metadata": {},
     "output_type": "execute_result"
    }
   ],
   "source": [
    "arr3.shape"
   ]
  },
  {
   "cell_type": "code",
   "execution_count": null,
   "id": "2add53dc-7690-4812-ad3e-6230bc1d220e",
   "metadata": {},
   "outputs": [],
   "source": []
  }
 ],
 "metadata": {
  "kernelspec": {
   "display_name": "Python 3 (ipykernel)",
   "language": "python",
   "name": "python3"
  },
  "language_info": {
   "codemirror_mode": {
    "name": "ipython",
    "version": 3
   },
   "file_extension": ".py",
   "mimetype": "text/x-python",
   "name": "python",
   "nbconvert_exporter": "python",
   "pygments_lexer": "ipython3",
   "version": "3.12.0"
  }
 },
 "nbformat": 4,
 "nbformat_minor": 5
}
